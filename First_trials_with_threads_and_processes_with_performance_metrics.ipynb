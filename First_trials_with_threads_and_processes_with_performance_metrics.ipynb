{
 "cells": [
  {
   "cell_type": "markdown",
   "metadata": {},
   "source": [
    "# Imports"
   ]
  },
  {
   "cell_type": "code",
   "execution_count": 1,
   "metadata": {},
   "outputs": [],
   "source": [
    "import multiprocessing\n",
    "import random\n",
    "# import string\n",
    "import time\n",
    "import threading"
   ]
  },
  {
   "cell_type": "markdown",
   "metadata": {},
   "source": [
    "# Functions"
   ]
  },
  {
   "cell_type": "code",
   "execution_count": 2,
   "metadata": {},
   "outputs": [],
   "source": [
    "def generate_and_add_numbers(n: int = 1000):\n",
    "    total = 0\n",
    "    for i in range(n):\n",
    "        total += random.randint(0,1000000)\n",
    "    return total\n",
    "\n",
    "\n",
    "def generate_and_join_letters(n: int = 1000):\n",
    "    letters = ''\n",
    "    for i in range(n):\n",
    "        letters += chr(random.randint(33, 126))\n",
    "        # letters += random.choice(string.ascii_letters + string.digits)\n",
    "    return letters"
   ]
  },
  {
   "cell_type": "markdown",
   "metadata": {},
   "source": [
    "# Seauential Execution"
   ]
  },
  {
   "cell_type": "code",
   "execution_count": 3,
   "metadata": {},
   "outputs": [
    {
     "name": "stdout",
     "output_type": "stream",
     "text": [
      "Starting the Program\n"
     ]
    },
    {
     "name": "stdout",
     "output_type": "stream",
     "text": [
      "Exiting the Program\n",
      "It took 7.206875801086426s to execute the tasks.\n"
     ]
    }
   ],
   "source": [
    "print(\"Starting the Program\")\n",
    "total_start_time = time.time()\n",
    "\n",
    "generate_and_add_numbers(int(1e7))\n",
    "generate_and_join_letters(int(1e7))\n",
    "\n",
    "total_end_time = time.time()\n",
    "print(\"Exiting the Program\")\n",
    "sequential_execution_time = total_end_time - total_start_time\n",
    "print(f\"It took {sequential_execution_time}s to execute the tasks.\")"
   ]
  },
  {
   "cell_type": "markdown",
   "metadata": {},
   "source": [
    "# Threads execution"
   ]
  },
  {
   "cell_type": "code",
   "execution_count": 4,
   "metadata": {},
   "outputs": [
    {
     "name": "stdout",
     "output_type": "stream",
     "text": [
      "Starting the  thread program\n",
      "Exiting the thread program\n",
      "It took 7.118330478668213s to execute the tasks with thread.\n"
     ]
    }
   ],
   "source": [
    "print(\"Starting the  thread program\")\n",
    "total_start_time = time.time()\n",
    "\n",
    "thread_numbers = threading.Thread(target=generate_and_add_numbers, args=[int(1e7)])\n",
    "thread_letters = threading.Thread(target=generate_and_join_letters, args=[int(1e7)])\n",
    "\n",
    "thread_numbers.start()\n",
    "thread_letters.start()\n",
    "\n",
    "thread_numbers.join()\n",
    "thread_letters.join()\n",
    "\n",
    "total_end_time = time.time()\n",
    "print(\"Exiting the thread program\")\n",
    "thread_execution_time = total_end_time - total_start_time\n",
    "print(f\"It took {thread_execution_time}s to execute the tasks with thread.\")"
   ]
  },
  {
   "cell_type": "markdown",
   "metadata": {},
   "source": [
    "# Trials with the same threads"
   ]
  },
  {
   "cell_type": "code",
   "execution_count": 5,
   "metadata": {},
   "outputs": [
    {
     "name": "stdout",
     "output_type": "stream",
     "text": [
      "Starting the two threads program for generate numbers\n"
     ]
    },
    {
     "name": "stdout",
     "output_type": "stream",
     "text": [
      "Exiting two threads program for generate numbers\n",
      "It took 6.730978012084961s to execute the tasks with threads.\n"
     ]
    }
   ],
   "source": [
    "print(\"Starting the two threads program for generate numbers\")\n",
    "total_start_time = time.time()\n",
    "\n",
    "thread_numbers = threading.Thread(target=generate_and_add_numbers, args=[int(1e7)])\n",
    "thread_letters = threading.Thread(target=generate_and_add_numbers, args=[int(1e7)])\n",
    "\n",
    "thread_numbers.start()\n",
    "thread_letters.start()\n",
    "\n",
    "thread_numbers.join()\n",
    "thread_letters.join()\n",
    "\n",
    "total_end_time = time.time()\n",
    "print(\"Exiting two threads program for generate numbers\")\n",
    "execution_time = total_end_time - total_start_time\n",
    "print(f\"It took {execution_time}s to execute the tasks with threads.\")"
   ]
  },
  {
   "cell_type": "code",
   "execution_count": 6,
   "metadata": {},
   "outputs": [
    {
     "name": "stdout",
     "output_type": "stream",
     "text": [
      "Starting the two threads program for generate letters\n",
      "Exiting two threads program for generate letters\n",
      "It took 6.020277738571167s to execute the tasks with threads.\n"
     ]
    }
   ],
   "source": [
    "print(\"Starting the two threads program for generate letters\")\n",
    "total_start_time = time.time()\n",
    "\n",
    "thread_numbers = threading.Thread(target=generate_and_add_numbers, args=[int(1e7)])\n",
    "thread_letters = threading.Thread(target=generate_and_add_numbers, args=[int(1e7)])\n",
    "\n",
    "thread_numbers.start()\n",
    "thread_letters.start()\n",
    "\n",
    "thread_numbers.join()\n",
    "thread_letters.join()\n",
    "\n",
    "total_end_time = time.time()\n",
    "print(\"Exiting two threads program for generate letters\")\n",
    "execution_time = total_end_time - total_start_time\n",
    "print(f\"It took {execution_time}s to execute the tasks with threads.\")"
   ]
  },
  {
   "cell_type": "markdown",
   "metadata": {},
   "source": [
    "# Trials With processes"
   ]
  },
  {
   "cell_type": "code",
   "execution_count": 16,
   "metadata": {},
   "outputs": [
    {
     "name": "stdout",
     "output_type": "stream",
     "text": [
      "Starting the two processs program for generate letters\n",
      "Exiting two processs program for generate letters\n",
      "It took 2.958604574203491s to execute the tasks with processs.\n"
     ]
    }
   ],
   "source": [
    "print(\"Starting the two processs program for generate letters\")\n",
    "total_start_time = time.time()\n",
    "\n",
    "process_numbers = multiprocessing.Process(target=generate_and_add_numbers, args=[int(1e7)])\n",
    "process_letters = multiprocessing.Process(target=generate_and_add_numbers, args=[int(1e7)])\n",
    "\n",
    "process_numbers.start()\n",
    "process_letters.start()\n",
    "\n",
    "process_numbers.join()\n",
    "process_letters.join()\n",
    "\n",
    "total_end_time = time.time()\n",
    "print(\"Exiting two processs program for generate letters\")\n",
    "process_execution_time = total_end_time - total_start_time\n",
    "print(f\"It took {process_execution_time}s to execute the tasks with processs.\")"
   ]
  },
  {
   "cell_type": "code",
   "execution_count": 18,
   "metadata": {},
   "outputs": [],
   "source": [
    "serial = 0.005/2.95"
   ]
  },
  {
   "cell_type": "markdown",
   "metadata": {},
   "source": [
    "# Add your interpretations and conclusions here\n",
    "- Computing the speedups"
   ]
  },
  {
   "cell_type": "code",
   "execution_count": 8,
   "metadata": {},
   "outputs": [
    {
     "name": "stdout",
     "output_type": "stream",
     "text": [
      "The speedup using threads is 1.0124390575407478\n",
      "The speedup using processes is 2.2849227500019653\n"
     ]
    }
   ],
   "source": [
    "speedup_thread = sequential_execution_time/thread_execution_time\n",
    "speedup_processes = sequential_execution_time/process_execution_time\n",
    "\n",
    "print(f\"The speedup using threads is {speedup_thread}\")\n",
    "print(f\"The speedup using processes is {speedup_processes}\")"
   ]
  },
  {
   "cell_type": "markdown",
   "metadata": {},
   "source": [
    "- Computing the Efficiency "
   ]
  },
  {
   "cell_type": "code",
   "execution_count": 20,
   "metadata": {},
   "outputs": [
    {
     "name": "stdout",
     "output_type": "stream",
     "text": [
      "The efficiency using threads is 0.25310976438518695\n",
      "The efficiency using processes is 0.5712306875004913\n"
     ]
    }
   ],
   "source": [
    "np = 4\n",
    "efficiency_thread = speedup_thread/np\n",
    "efficiency_processes = speedup_processes/np\n",
    "\n",
    "print(f\"The efficiency using threads is {efficiency_thread}\")\n",
    "print(f\"The efficiency using processes is {efficiency_processes}\")"
   ]
  },
  {
   "cell_type": "markdown",
   "metadata": {},
   "source": [
    "- Amdhal and Gustafson Laws"
   ]
  },
  {
   "cell_type": "code",
   "execution_count": 19,
   "metadata": {},
   "outputs": [
    {
     "name": "stdout",
     "output_type": "stream",
     "text": [
      "99.99999999999991\n"
     ]
    }
   ],
   "source": [
    "P = 0.99\n",
    "amdhal_s=1/(1-P)\n",
    "print(amdhal_s)"
   ]
  },
  {
   "cell_type": "code",
   "execution_count": 25,
   "metadata": {},
   "outputs": [
    {
     "name": "stdout",
     "output_type": "stream",
     "text": [
      "3.9699999999999998\n"
     ]
    }
   ],
   "source": [
    "alpha = 1-0.99\n",
    "gustafson= np - alpha*(np-1)\n",
    "print(gustafson)"
   ]
  },
  {
   "cell_type": "markdown",
   "metadata": {},
   "source": [
    "# conclusion"
   ]
  },
  {
   "cell_type": "markdown",
   "metadata": {},
   "source": [
    "#### **Threads vs. Processes – Which Worked Better?**  \n",
    "- Using **threads** didn’t help much (**7.12s vs. 7.21s sequential**) because of Python **GIL**, which limits parallel execution.  \n",
    "- Adding **two threads** improved things slightly (**6.73s for numbers, 6.02s for letters**), but not significantly.  \n",
    "- **Multiprocessing**, on the other hand, was much faster (**2.96s**), showing a clear advantage for CPU-heavy tasks.  \n",
    "\n",
    "#### **Speedup & Efficiency – Was Parallelization Worth It?**  \n",
    "- **Threads** gave a tiny speed boost (**1.01x faster**), with an efficiency of **25.3%**—not great.  \n",
    "- **Processes** were **2.28x faster** and had a much better efficiency of **57.1%**.  \n",
    "\n",
    "#### **What Does This Mean?**  \n",
    "- **Threads aren’t useful** for tasks that rely heavily on the CPU, but they’re good for I/O-bound tasks.  \n",
    "- **Multiprocessing is the way to go** for CPU-heavy tasks since it takes full advantage of multiple cores.  \n",
    "- According to **Gustafson’s Law**, if we scale this up, we could see even bigger speed improvements (**~3.97x speedup**).  \n",
    "\n",
    "**Bottom line:** If you’re working with CPU-intensive tasks, multiprocessing is the best!"
   ]
  },
  {
   "cell_type": "code",
   "execution_count": null,
   "metadata": {},
   "outputs": [],
   "source": []
  }
 ],
 "metadata": {
  "kernelspec": {
   "display_name": "Python 3 (ipykernel)",
   "language": "python",
   "name": "python3"
  },
  "language_info": {
   "codemirror_mode": {
    "name": "ipython",
    "version": 3
   },
   "file_extension": ".py",
   "mimetype": "text/x-python",
   "name": "python",
   "nbconvert_exporter": "python",
   "pygments_lexer": "ipython3",
   "version": "3.11.7"
  }
 },
 "nbformat": 4,
 "nbformat_minor": 4
}
